{
  "nbformat": 4,
  "nbformat_minor": 0,
  "metadata": {
    "colab": {
      "name": "Krishi_mitra_v1.ipynb",
      "provenance": [],
      "collapsed_sections": []
    },
    "kernelspec": {
      "name": "python3",
      "display_name": "Python 3"
    },
    "accelerator": "GPU"
  },
  "cells": [
    {
      "cell_type": "code",
      "metadata": {
        "id": "cIjMLDg2VRFT",
        "colab_type": "code",
        "outputId": "69bd46fd-a688-45ad-cb10-d197d7e78a7a",
        "colab": {
          "base_uri": "https://localhost:8080/",
          "height": 50
        }
      },
      "source": [
        "from __future__ import absolute_import, division, print_function, unicode_literals\n",
        "try:\n",
        "  # The %tensorflow_version magic only works in colab.\n",
        "  %tensorflow_version 2.x\n",
        "except Exception:\n",
        "  pass\n",
        "import tensorflow as tf\n",
        "import os\n",
        "import numpy as np\n",
        "import matplotlib.pyplot as plt\n",
        "from keras.preprocessing import image\n",
        "from keras.applications import MobileNetV2"
      ],
      "execution_count": 0,
      "outputs": [
        {
          "output_type": "stream",
          "text": [
            "TensorFlow 2.x selected.\n"
          ],
          "name": "stdout"
        },
        {
          "output_type": "stream",
          "text": [
            "Using TensorFlow backend.\n"
          ],
          "name": "stderr"
        }
      ]
    },
    {
      "cell_type": "code",
      "metadata": {
        "id": "ougjOh4jViKe",
        "colab_type": "code",
        "outputId": "f6de47c3-bdc3-42de-b5ad-1851c108cafb",
        "colab": {
          "base_uri": "https://localhost:8080/",
          "height": 34
        }
      },
      "source": [
        "tf.__version__"
      ],
      "execution_count": 0,
      "outputs": [
        {
          "output_type": "execute_result",
          "data": {
            "text/plain": [
              "'2.0.0'"
            ]
          },
          "metadata": {
            "tags": []
          },
          "execution_count": 2
        }
      ]
    },
    {
      "cell_type": "code",
      "metadata": {
        "id": "fIMCiKKKVlxj",
        "colab_type": "code",
        "outputId": "ee2cb55a-470d-4061-a541-4e609793fd25",
        "colab": {
          "base_uri": "https://localhost:8080/",
          "height": 118
        }
      },
      "source": [
        "#downloading the dataset\n",
        "#a predesigned dataset from another project on github\n",
        "!git clone https://github.com/salathegroup/plantvillage_deeplearning_paper_dataset"
      ],
      "execution_count": 0,
      "outputs": [
        {
          "output_type": "stream",
          "text": [
            "Cloning into 'plantvillage_deeplearning_paper_dataset'...\n",
            "remote: Enumerating objects: 163224, done.\u001b[K\n",
            "remote: Total 163224 (delta 0), reused 0 (delta 0), pack-reused 163224\u001b[K\n",
            "Receiving objects: 100% (163224/163224), 2.00 GiB | 35.73 MiB/s, done.\n",
            "Resolving deltas: 100% (97/97), done.\n",
            "Checking out files: 100% (182401/182401), done.\n"
          ],
          "name": "stdout"
        }
      ]
    },
    {
      "cell_type": "code",
      "metadata": {
        "id": "-HPrc4SdVs4W",
        "colab_type": "code",
        "colab": {}
      },
      "source": [
        "image_size=224\n",
        "batch_size=64\n",
        "generator=image.ImageDataGenerator(horizontal_flip=True,rotation_range=10)"
      ],
      "execution_count": 0,
      "outputs": []
    },
    {
      "cell_type": "code",
      "metadata": {
        "id": "iTtCpKstV77n",
        "colab_type": "code",
        "outputId": "9ae1fec9-5411-44ac-b340-5709a69dd36a",
        "colab": {
          "base_uri": "https://localhost:8080/",
          "height": 34
        }
      },
      "source": [
        "train_generator=generator.flow_from_directory('plantvillage_deeplearning_paper_dataset/raw/color',target_size=(image_size,image_size))"
      ],
      "execution_count": 0,
      "outputs": [
        {
          "output_type": "stream",
          "text": [
            "Found 54305 images belonging to 38 classes.\n"
          ],
          "name": "stdout"
        }
      ]
    },
    {
      "cell_type": "code",
      "metadata": {
        "id": "NrKCu56UWVnK",
        "colab_type": "code",
        "outputId": "e0d10d71-b2e6-470b-d292-fecab290f406",
        "colab": {
          "base_uri": "https://localhost:8080/",
          "height": 34
        }
      },
      "source": [
        "for image_batch,label_batch in train_generator:\n",
        "  break\n",
        "image_batch.shape,label_batch.shape"
      ],
      "execution_count": 0,
      "outputs": [
        {
          "output_type": "execute_result",
          "data": {
            "text/plain": [
              "((32, 224, 224, 3), (32, 38))"
            ]
          },
          "metadata": {
            "tags": []
          },
          "execution_count": 6
        }
      ]
    },
    {
      "cell_type": "code",
      "metadata": {
        "id": "3W36bjKjWhww",
        "colab_type": "code",
        "outputId": "8019f757-7b4f-4124-c0fa-6b5680599dd5",
        "colab": {
          "base_uri": "https://localhost:8080/",
          "height": 54
        }
      },
      "source": [
        "print (train_generator.class_indices)\n",
        "\n",
        "labels = '\\n'.join(sorted(train_generator.class_indices.keys()))\n",
        "\n",
        "with open('labels.txt', 'w') as f:\n",
        "  f.write(labels)"
      ],
      "execution_count": 0,
      "outputs": [
        {
          "output_type": "stream",
          "text": [
            "{'Apple___Apple_scab': 0, 'Apple___Black_rot': 1, 'Apple___Cedar_apple_rust': 2, 'Apple___healthy': 3, 'Blueberry___healthy': 4, 'Cherry_(including_sour)___Powdery_mildew': 5, 'Cherry_(including_sour)___healthy': 6, 'Corn_(maize)___Cercospora_leaf_spot Gray_leaf_spot': 7, 'Corn_(maize)___Common_rust_': 8, 'Corn_(maize)___Northern_Leaf_Blight': 9, 'Corn_(maize)___healthy': 10, 'Grape___Black_rot': 11, 'Grape___Esca_(Black_Measles)': 12, 'Grape___Leaf_blight_(Isariopsis_Leaf_Spot)': 13, 'Grape___healthy': 14, 'Orange___Haunglongbing_(Citrus_greening)': 15, 'Peach___Bacterial_spot': 16, 'Peach___healthy': 17, 'Pepper,_bell___Bacterial_spot': 18, 'Pepper,_bell___healthy': 19, 'Potato___Early_blight': 20, 'Potato___Late_blight': 21, 'Potato___healthy': 22, 'Raspberry___healthy': 23, 'Soybean___healthy': 24, 'Squash___Powdery_mildew': 25, 'Strawberry___Leaf_scorch': 26, 'Strawberry___healthy': 27, 'Tomato___Bacterial_spot': 28, 'Tomato___Early_blight': 29, 'Tomato___Late_blight': 30, 'Tomato___Leaf_Mold': 31, 'Tomato___Septoria_leaf_spot': 32, 'Tomato___Spider_mites Two-spotted_spider_mite': 33, 'Tomato___Target_Spot': 34, 'Tomato___Tomato_Yellow_Leaf_Curl_Virus': 35, 'Tomato___Tomato_mosaic_virus': 36, 'Tomato___healthy': 37}\n"
          ],
          "name": "stdout"
        }
      ]
    },
    {
      "cell_type": "code",
      "metadata": {
        "id": "RcAsbSPlWy0R",
        "colab_type": "code",
        "outputId": "2fe564d5-c999-4b97-9a2b-51d9e67f7c49",
        "colab": {
          "base_uri": "https://localhost:8080/",
          "height": 655
        }
      },
      "source": [
        "!cat labels.txt"
      ],
      "execution_count": 0,
      "outputs": [
        {
          "output_type": "stream",
          "text": [
            "Apple___Apple_scab\n",
            "Apple___Black_rot\n",
            "Apple___Cedar_apple_rust\n",
            "Apple___healthy\n",
            "Blueberry___healthy\n",
            "Cherry_(including_sour)___Powdery_mildew\n",
            "Cherry_(including_sour)___healthy\n",
            "Corn_(maize)___Cercospora_leaf_spot Gray_leaf_spot\n",
            "Corn_(maize)___Common_rust_\n",
            "Corn_(maize)___Northern_Leaf_Blight\n",
            "Corn_(maize)___healthy\n",
            "Grape___Black_rot\n",
            "Grape___Esca_(Black_Measles)\n",
            "Grape___Leaf_blight_(Isariopsis_Leaf_Spot)\n",
            "Grape___healthy\n",
            "Orange___Haunglongbing_(Citrus_greening)\n",
            "Peach___Bacterial_spot\n",
            "Peach___healthy\n",
            "Pepper,_bell___Bacterial_spot\n",
            "Pepper,_bell___healthy\n",
            "Potato___Early_blight\n",
            "Potato___Late_blight\n",
            "Potato___healthy\n",
            "Raspberry___healthy\n",
            "Soybean___healthy\n",
            "Squash___Powdery_mildew\n",
            "Strawberry___Leaf_scorch\n",
            "Strawberry___healthy\n",
            "Tomato___Bacterial_spot\n",
            "Tomato___Early_blight\n",
            "Tomato___Late_blight\n",
            "Tomato___Leaf_Mold\n",
            "Tomato___Septoria_leaf_spot\n",
            "Tomato___Spider_mites Two-spotted_spider_mite\n",
            "Tomato___Target_Spot\n",
            "Tomato___Tomato_Yellow_Leaf_Curl_Virus\n",
            "Tomato___Tomato_mosaic_virus\n",
            "Tomato___healthy"
          ],
          "name": "stdout"
        }
      ]
    },
    {
      "cell_type": "code",
      "metadata": {
        "id": "FzSQqlGCW192",
        "colab_type": "code",
        "outputId": "8536cbb8-c486-4aec-e3dc-c8bfcfd6e499",
        "colab": {
          "base_uri": "https://localhost:8080/",
          "height": 50
        }
      },
      "source": [
        "IMG_SHAPE = (image_size,image_size, 3)\n",
        "\n",
        "base_model = tf.keras.applications.MobileNetV2(input_shape=IMG_SHAPE,\n",
        "                                              include_top=False, \n",
        "                                              weights='imagenet')"
      ],
      "execution_count": 0,
      "outputs": [
        {
          "output_type": "stream",
          "text": [
            "Downloading data from https://github.com/JonathanCMitchell/mobilenet_v2_keras/releases/download/v1.1/mobilenet_v2_weights_tf_dim_ordering_tf_kernels_1.0_224_no_top.h5\n",
            "9412608/9406464 [==============================] - 0s 0us/step\n"
          ],
          "name": "stdout"
        }
      ]
    },
    {
      "cell_type": "code",
      "metadata": {
        "id": "jN3KBKSPXGtv",
        "colab_type": "code",
        "colab": {}
      },
      "source": [
        "base_model.trainable=False"
      ],
      "execution_count": 0,
      "outputs": []
    },
    {
      "cell_type": "code",
      "metadata": {
        "id": "FC1milPdXNQh",
        "colab_type": "code",
        "colab": {}
      },
      "source": [
        "# model = tf.keras.Sequential([\n",
        "#   base_model,\n",
        "#   tf.keras.layers.Conv2D(32, 3, activation='relu'),\n",
        "#   tf.keras.layers.Dropout(0.2),\n",
        "#   tf.keras.layers.GlobalAveragePooling2D(),\n",
        "#   tf.keras.layers.Dense(38, activation='softmax')\n",
        "# ])"
      ],
      "execution_count": 0,
      "outputs": []
    },
    {
      "cell_type": "code",
      "metadata": {
        "id": "-Y_Mef78HEIc",
        "colab_type": "code",
        "colab": {}
      },
      "source": [
        "model=tf.keras.Sequential([\n",
        "    base_model,\n",
        "    tf.keras.layers.GlobalAveragePooling2D(),\n",
        "    tf.keras.layers.Dense(400,activation='tanh'),\n",
        "    tf.keras.layers.Dense(400,activation='tanh'),\n",
        "    tf.keras.layers.Dense(200,activation='tanh'),\n",
        "    tf.keras.layers.Dense(100,activation='tanh'),\n",
        "    tf.keras.layers.Dense(50,activation='tanh'),\n",
        "    tf.keras.layers.Dense(38,activation='softmax')\n",
        "])"
      ],
      "execution_count": 0,
      "outputs": []
    },
    {
      "cell_type": "code",
      "metadata": {
        "id": "KihsYyEkXQU3",
        "colab_type": "code",
        "colab": {}
      },
      "source": [
        "model.compile(optimizer=tf.keras.optimizers.Adam(1e-5),loss='categorical_crossentropy',metrics=['accuracy'])"
      ],
      "execution_count": 0,
      "outputs": []
    },
    {
      "cell_type": "code",
      "metadata": {
        "id": "7Y30kOQjXbiT",
        "colab_type": "code",
        "outputId": "d398fe87-b520-4ea5-ec55-94fcc1ab5be3",
        "colab": {
          "base_uri": "https://localhost:8080/",
          "height": 319
        }
      },
      "source": [
        "model.summary()"
      ],
      "execution_count": 0,
      "outputs": [
        {
          "output_type": "stream",
          "text": [
            "Model: \"sequential\"\n",
            "_________________________________________________________________\n",
            "Layer (type)                 Output Shape              Param #   \n",
            "=================================================================\n",
            "mobilenetv2_1.00_224 (Model) (None, 7, 7, 1280)        2257984   \n",
            "_________________________________________________________________\n",
            "conv2d (Conv2D)              (None, 5, 5, 32)          368672    \n",
            "_________________________________________________________________\n",
            "dropout (Dropout)            (None, 5, 5, 32)          0         \n",
            "_________________________________________________________________\n",
            "global_average_pooling2d (Gl (None, 32)                0         \n",
            "_________________________________________________________________\n",
            "dense (Dense)                (None, 38)                1254      \n",
            "=================================================================\n",
            "Total params: 2,627,910\n",
            "Trainable params: 369,926\n",
            "Non-trainable params: 2,257,984\n",
            "_________________________________________________________________\n"
          ],
          "name": "stdout"
        }
      ]
    },
    {
      "cell_type": "code",
      "metadata": {
        "id": "e0MXlpabXfZq",
        "colab_type": "code",
        "outputId": "af9829ed-eee5-48b3-bb2d-48aec59684e5",
        "colab": {
          "base_uri": "https://localhost:8080/",
          "height": 34
        }
      },
      "source": [
        "print('Number of trainable variables = {}'.format(len(model.trainable_variables)))"
      ],
      "execution_count": 0,
      "outputs": [
        {
          "output_type": "stream",
          "text": [
            "Number of trainable variables = 4\n"
          ],
          "name": "stdout"
        }
      ]
    },
    {
      "cell_type": "code",
      "metadata": {
        "id": "DxzCXRV3XvSQ",
        "colab_type": "code",
        "outputId": "bb90edee-e982-4f78-ea11-d987a9ca7b1e",
        "colab": {
          "base_uri": "https://localhost:8080/",
          "height": 1000
        }
      },
      "source": [
        "epochs = 30\n",
        "\n",
        "history = model.fit_generator(train_generator,steps_per_epoch=60, epochs=epochs)"
      ],
      "execution_count": 0,
      "outputs": [
        {
          "output_type": "stream",
          "text": [
            "Epoch 1/30\n",
            "WARNING:tensorflow:From /tensorflow-2.0.0-rc2/python3.6/tensorflow_core/python/ops/math_grad.py:1394: where (from tensorflow.python.ops.array_ops) is deprecated and will be removed in a future version.\n",
            "Instructions for updating:\n",
            "Use tf.where in 2.0, which has the same broadcast rule as np.where\n",
            "60/60 [==============================] - 38s 630ms/step - loss: 3.5536 - accuracy: 0.0714\n",
            "Epoch 2/30\n",
            "60/60 [==============================] - 36s 605ms/step - loss: 3.3012 - accuracy: 0.1568\n",
            "Epoch 3/30\n",
            "60/60 [==============================] - 35s 585ms/step - loss: 3.1494 - accuracy: 0.2328\n",
            "Epoch 4/30\n",
            "60/60 [==============================] - 37s 613ms/step - loss: 2.9556 - accuracy: 0.3042\n",
            "Epoch 5/30\n",
            "60/60 [==============================] - 36s 604ms/step - loss: 2.8100 - accuracy: 0.3453\n",
            "Epoch 6/30\n",
            "60/60 [==============================] - 34s 570ms/step - loss: 2.6145 - accuracy: 0.4007\n",
            "Epoch 7/30\n",
            "60/60 [==============================] - 35s 575ms/step - loss: 2.5199 - accuracy: 0.4141\n",
            "Epoch 8/30\n",
            "60/60 [==============================] - 37s 613ms/step - loss: 2.3367 - accuracy: 0.4563\n",
            "Epoch 9/30\n",
            "60/60 [==============================] - 41s 677ms/step - loss: 2.2495 - accuracy: 0.4771\n",
            "Epoch 10/30\n",
            "60/60 [==============================] - 40s 660ms/step - loss: 2.1142 - accuracy: 0.4927\n",
            "Epoch 11/30\n",
            "60/60 [==============================] - 40s 670ms/step - loss: 2.0374 - accuracy: 0.5099\n",
            "Epoch 12/30\n",
            "60/60 [==============================] - 43s 713ms/step - loss: 1.9087 - accuracy: 0.5479\n",
            "Epoch 13/30\n",
            "60/60 [==============================] - 39s 657ms/step - loss: 1.8220 - accuracy: 0.5526\n",
            "Epoch 14/30\n",
            "60/60 [==============================] - 38s 632ms/step - loss: 1.8078 - accuracy: 0.5750\n",
            "Epoch 15/30\n",
            "60/60 [==============================] - 38s 626ms/step - loss: 1.7341 - accuracy: 0.5917\n",
            "Epoch 16/30\n",
            "60/60 [==============================] - 40s 666ms/step - loss: 1.6455 - accuracy: 0.6078\n",
            "Epoch 17/30\n",
            "60/60 [==============================] - 40s 659ms/step - loss: 1.6494 - accuracy: 0.6062\n",
            "Epoch 18/30\n",
            "60/60 [==============================] - 39s 650ms/step - loss: 1.5473 - accuracy: 0.6302\n",
            "Epoch 19/30\n",
            "60/60 [==============================] - 41s 685ms/step - loss: 1.5331 - accuracy: 0.6417\n",
            "Epoch 20/30\n",
            "60/60 [==============================] - 38s 640ms/step - loss: 1.4658 - accuracy: 0.6604\n",
            "Epoch 21/30\n",
            "60/60 [==============================] - 38s 627ms/step - loss: 1.4400 - accuracy: 0.6661\n",
            "Epoch 22/30\n",
            "60/60 [==============================] - 39s 654ms/step - loss: 1.4016 - accuracy: 0.6615\n",
            "Epoch 23/30\n",
            "60/60 [==============================] - 40s 666ms/step - loss: 1.3695 - accuracy: 0.6646\n",
            "Epoch 24/30\n",
            "60/60 [==============================] - 34s 570ms/step - loss: 1.3260 - accuracy: 0.6823\n",
            "Epoch 25/30\n",
            "60/60 [==============================] - 35s 586ms/step - loss: 1.3352 - accuracy: 0.6797\n",
            "Epoch 26/30\n",
            "60/60 [==============================] - 35s 581ms/step - loss: 1.2486 - accuracy: 0.6943\n",
            "Epoch 27/30\n",
            "60/60 [==============================] - 33s 551ms/step - loss: 1.2261 - accuracy: 0.7000\n",
            "Epoch 28/30\n",
            "60/60 [==============================] - 33s 552ms/step - loss: 1.2464 - accuracy: 0.6974\n",
            "Epoch 29/30\n",
            "60/60 [==============================] - 35s 588ms/step - loss: 1.1575 - accuracy: 0.7167\n",
            "Epoch 30/30\n",
            "60/60 [==============================] - 35s 585ms/step - loss: 1.1808 - accuracy: 0.7182\n"
          ],
          "name": "stdout"
        }
      ]
    },
    {
      "cell_type": "code",
      "metadata": {
        "id": "1-n03AZlynNL",
        "colab_type": "code",
        "colab": {}
      },
      "source": [
        ""
      ],
      "execution_count": 0,
      "outputs": []
    },
    {
      "cell_type": "code",
      "metadata": {
        "id": "RQtQZ6rSX3wb",
        "colab_type": "code",
        "colab": {}
      },
      "source": [
        " #fine tuning onwards\n",
        "base_model.trainable=True"
      ],
      "execution_count": 0,
      "outputs": []
    },
    {
      "cell_type": "code",
      "metadata": {
        "id": "wQXZAYWNYrqX",
        "colab_type": "code",
        "outputId": "965d38c2-d72a-4b92-bfbd-d078084b6ee5",
        "colab": {
          "base_uri": "https://localhost:8080/",
          "height": 34
        }
      },
      "source": [
        "print(\"Number of layers in the base model: \", len(base_model.layers))"
      ],
      "execution_count": 0,
      "outputs": [
        {
          "output_type": "stream",
          "text": [
            "Number of layers in the base model:  155\n"
          ],
          "name": "stdout"
        }
      ]
    },
    {
      "cell_type": "code",
      "metadata": {
        "id": "m_Eh7MyxYuqP",
        "colab_type": "code",
        "colab": {}
      },
      "source": [
        "fine_tune_at=100\n",
        "for layer in base_model.layers[:fine_tune_at]:\n",
        "  layer.trainable=False"
      ],
      "execution_count": 0,
      "outputs": []
    },
    {
      "cell_type": "code",
      "metadata": {
        "id": "du3KMIj6Y-KW",
        "colab_type": "code",
        "colab": {}
      },
      "source": [
        "model.compile(loss='categorical_crossentropy',optimizer=tf.keras.optimizers.Adam(1e-5),metrics=['accuracy'])"
      ],
      "execution_count": 0,
      "outputs": []
    },
    {
      "cell_type": "code",
      "metadata": {
        "id": "0lNrblTfZKrj",
        "colab_type": "code",
        "outputId": "d5382616-c43a-42f4-e1b2-1416501e3ea1",
        "colab": {
          "base_uri": "https://localhost:8080/",
          "height": 420
        }
      },
      "source": [
        "model.summary()"
      ],
      "execution_count": 0,
      "outputs": [
        {
          "output_type": "stream",
          "text": [
            "Model: \"sequential_3\"\n",
            "_________________________________________________________________\n",
            "Layer (type)                 Output Shape              Param #   \n",
            "=================================================================\n",
            "mobilenetv2_1.00_224 (Model) (None, 7, 7, 1280)        2257984   \n",
            "_________________________________________________________________\n",
            "global_average_pooling2d_3 ( (None, 1280)              0         \n",
            "_________________________________________________________________\n",
            "dense_8 (Dense)              (None, 400)               512400    \n",
            "_________________________________________________________________\n",
            "dense_9 (Dense)              (None, 400)               160400    \n",
            "_________________________________________________________________\n",
            "dense_10 (Dense)             (None, 200)               80200     \n",
            "_________________________________________________________________\n",
            "dense_11 (Dense)             (None, 100)               20100     \n",
            "_________________________________________________________________\n",
            "dense_12 (Dense)             (None, 50)                5050      \n",
            "_________________________________________________________________\n",
            "dense_13 (Dense)             (None, 38)                1938      \n",
            "=================================================================\n",
            "Total params: 3,038,072\n",
            "Trainable params: 2,642,680\n",
            "Non-trainable params: 395,392\n",
            "_________________________________________________________________\n"
          ],
          "name": "stdout"
        }
      ]
    },
    {
      "cell_type": "code",
      "metadata": {
        "id": "5cSD4CreZQDO",
        "colab_type": "code",
        "outputId": "e4be6eb8-40fe-49c1-b3fa-6ad9aa0a42c1",
        "colab": {
          "base_uri": "https://localhost:8080/",
          "height": 34
        }
      },
      "source": [
        "print('Number of trainable variables = {}'.format(len(model.trainable_variables)))"
      ],
      "execution_count": 0,
      "outputs": [
        {
          "output_type": "stream",
          "text": [
            "Number of trainable variables = 68\n"
          ],
          "name": "stdout"
        }
      ]
    },
    {
      "cell_type": "code",
      "metadata": {
        "id": "Z1dp5SwMZRqk",
        "colab_type": "code",
        "outputId": "58b62e01-3cf2-4c35-e7e1-c99ab9b639d0",
        "colab": {
          "base_uri": "https://localhost:8080/",
          "height": 185
        }
      },
      "source": [
        "history_fine = model.fit_generator(train_generator,steps_per_epoch=30,epochs=5)"
      ],
      "execution_count": 0,
      "outputs": [
        {
          "output_type": "stream",
          "text": [
            "Epoch 1/5\n",
            "30/30 [==============================] - 18s 609ms/step - loss: 0.5902 - accuracy: 0.8781\n",
            "Epoch 2/5\n",
            "30/30 [==============================] - 18s 588ms/step - loss: 0.5544 - accuracy: 0.8885\n",
            "Epoch 3/5\n",
            "30/30 [==============================] - 18s 593ms/step - loss: 0.5593 - accuracy: 0.8958\n",
            "Epoch 4/5\n",
            "30/30 [==============================] - 18s 587ms/step - loss: 0.5578 - accuracy: 0.8740\n",
            "Epoch 5/5\n",
            "30/30 [==============================] - 17s 580ms/step - loss: 0.5647 - accuracy: 0.8896\n"
          ],
          "name": "stdout"
        }
      ]
    },
    {
      "cell_type": "code",
      "metadata": {
        "id": "_v3xZP4VbAOa",
        "colab_type": "code",
        "outputId": "4179f365-c1f7-4baf-fda5-fd7a733aa163",
        "colab": {
          "base_uri": "https://localhost:8080/",
          "height": 34
        }
      },
      "source": [
        "saved_model_dir = 'save/fine_tuning'\n",
        "tf.saved_model.save(model, saved_model_dir)\n",
        "\n",
        "converter = tf.lite.TFLiteConverter.from_saved_model(saved_model_dir)\n",
        "tflite_model = converter.convert()\n",
        "\n",
        "with open('model.tflite', 'wb') as f:\n",
        "  f.write(tflite_model)"
      ],
      "execution_count": 0,
      "outputs": [
        {
          "output_type": "stream",
          "text": [
            "INFO:tensorflow:Assets written to: save/fine_tuning/assets\n"
          ],
          "name": "stdout"
        }
      ]
    },
    {
      "cell_type": "code",
      "metadata": {
        "id": "hIJBSIDHb1tJ",
        "colab_type": "code",
        "colab": {}
      },
      "source": [
        "from google.colab import files\n",
        "\n",
        "files.download('model.tflite')\n",
        "files.download('labels.txt')"
      ],
      "execution_count": 0,
      "outputs": []
    },
    {
      "cell_type": "code",
      "metadata": {
        "id": "3MiPHxeAb4kx",
        "colab_type": "code",
        "colab": {}
      },
      "source": [
        ""
      ],
      "execution_count": 0,
      "outputs": []
    }
  ]
}