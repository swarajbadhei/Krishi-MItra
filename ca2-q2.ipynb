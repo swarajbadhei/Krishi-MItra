{
 "cells": [
  {
   "cell_type": "code",
   "execution_count": 34,
   "metadata": {},
   "outputs": [],
   "source": [
    "import numpy as np"
   ]
  },
  {
   "cell_type": "code",
   "execution_count": 35,
   "metadata": {},
   "outputs": [],
   "source": [
    "def gen_pop():\n",
    "    return np.random.random((8,4))"
   ]
  },
  {
   "cell_type": "code",
   "execution_count": 36,
   "metadata": {},
   "outputs": [],
   "source": [
    "def fitness(pop,inputs):\n",
    "    values=[]\n",
    "    for i in range(8):\n",
    "        calc=(pop[i,0]*inputs[0])+(pop[i,1]*inputs[1])+(pop[i,2]*inputs[2])+pop[i,3]\n",
    "        values.append(calc)\n",
    "    return np.array(values)"
   ]
  },
  {
   "cell_type": "code",
   "execution_count": 37,
   "metadata": {},
   "outputs": [],
   "source": [
    "def show_fittest(values,pop):\n",
    "    win=np.argmax(values)\n",
    "    print(\"winner is index=\",win)\n",
    "    print(\"population is=\",pop[win,:])"
   ]
  },
  {
   "cell_type": "code",
   "execution_count": 38,
   "metadata": {},
   "outputs": [],
   "source": [
    "pop=gen_pop()"
   ]
  },
  {
   "cell_type": "code",
   "execution_count": 39,
   "metadata": {},
   "outputs": [
    {
     "data": {
      "text/plain": [
       "array([[0.42075062, 0.80667199, 0.66334576, 0.17194985],\n",
       "       [0.03453402, 0.43647727, 0.87189924, 0.13588771],\n",
       "       [0.15933249, 0.72367457, 0.56738163, 0.07294597],\n",
       "       [0.13928606, 0.63027081, 0.5408956 , 0.70791369],\n",
       "       [0.76572938, 0.74985122, 0.99893158, 0.16926675],\n",
       "       [0.94581053, 0.08699508, 0.2110777 , 0.35655126],\n",
       "       [0.55656541, 0.42487349, 0.75383001, 0.94351097],\n",
       "       [0.90112717, 0.32120339, 0.75270423, 0.24155985]])"
      ]
     },
     "execution_count": 39,
     "metadata": {},
     "output_type": "execute_result"
    }
   ],
   "source": [
    "pop"
   ]
  },
  {
   "cell_type": "code",
   "execution_count": 40,
   "metadata": {},
   "outputs": [],
   "source": [
    "inputs=np.array([2,3,4])"
   ]
  },
  {
   "cell_type": "code",
   "execution_count": 41,
   "metadata": {},
   "outputs": [],
   "source": [
    "fit_values=fitness(pop,inputs)"
   ]
  },
  {
   "cell_type": "code",
   "execution_count": 42,
   "metadata": {},
   "outputs": [
    {
     "name": "stdout",
     "output_type": "stream",
     "text": [
      "winner is index= 4\n",
      "population is= [0.76572938 0.74985122 0.99893158 0.16926675]\n"
     ]
    }
   ],
   "source": [
    "show_fittest(fit_values,pop)"
   ]
  },
  {
   "cell_type": "code",
   "execution_count": null,
   "metadata": {},
   "outputs": [],
   "source": []
  }
 ],
 "metadata": {
  "kernelspec": {
   "display_name": "Python 3",
   "language": "python",
   "name": "python3"
  },
  "language_info": {
   "codemirror_mode": {
    "name": "ipython",
    "version": 3
   },
   "file_extension": ".py",
   "mimetype": "text/x-python",
   "name": "python",
   "nbconvert_exporter": "python",
   "pygments_lexer": "ipython3",
   "version": "3.6.0"
  }
 },
 "nbformat": 4,
 "nbformat_minor": 2
}
